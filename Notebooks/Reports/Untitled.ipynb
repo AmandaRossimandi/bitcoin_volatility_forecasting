{
 "cells": [
  {
   "cell_type": "code",
   "execution_count": 1,
   "metadata": {},
   "outputs": [],
   "source": [
    "import numpy as np\n",
    "import pandas as pd"
   ]
  },
  {
   "cell_type": "code",
   "execution_count": 2,
   "metadata": {},
   "outputs": [],
   "source": [
    "perf_df = pd.read_pickle(\"../../performance_df/performance_df.pkl\")"
   ]
  },
  {
   "cell_type": "code",
   "execution_count": 5,
   "metadata": {},
   "outputs": [],
   "source": [
    "sorted_perf = perf_df.sort_values(by='Validation RMSPE', ascending=True)"
   ]
  },
  {
   "cell_type": "code",
   "execution_count": 9,
   "metadata": {},
   "outputs": [
    {
     "data": {
      "text/html": [
       "<div>\n",
       "<style scoped>\n",
       "    .dataframe tbody tr th:only-of-type {\n",
       "        vertical-align: middle;\n",
       "    }\n",
       "\n",
       "    .dataframe tbody tr th {\n",
       "        vertical-align: top;\n",
       "    }\n",
       "\n",
       "    .dataframe thead th {\n",
       "        text-align: right;\n",
       "    }\n",
       "</style>\n",
       "<table border=\"1\" class=\"dataframe\">\n",
       "  <thead>\n",
       "    <tr style=\"text-align: right;\">\n",
       "      <th></th>\n",
       "      <th>Model</th>\n",
       "      <th>Validation RMSPE</th>\n",
       "      <th>Validation RMSE</th>\n",
       "    </tr>\n",
       "  </thead>\n",
       "  <tbody>\n",
       "    <tr>\n",
       "      <th>0</th>\n",
       "      <td>Mean Baseline</td>\n",
       "      <td>0.507040</td>\n",
       "      <td>0.132201</td>\n",
       "    </tr>\n",
       "    <tr>\n",
       "      <th>1</th>\n",
       "      <td>Random Walk Naive Forecasting</td>\n",
       "      <td>0.224657</td>\n",
       "      <td>0.052533</td>\n",
       "    </tr>\n",
       "    <tr>\n",
       "      <th>2</th>\n",
       "      <td>GARCH(1,1), Constant Mean, Normal Dist</td>\n",
       "      <td>0.530965</td>\n",
       "      <td>0.185607</td>\n",
       "    </tr>\n",
       "    <tr>\n",
       "      <th>3</th>\n",
       "      <td>Analytical GJR-GARCH(1,1,1), Constant Mean, Sk...</td>\n",
       "      <td>0.276680</td>\n",
       "      <td>0.090312</td>\n",
       "    </tr>\n",
       "    <tr>\n",
       "      <th>4</th>\n",
       "      <td>Bootstrap TARCH(1,1), Constant Mean, Skewt Dist</td>\n",
       "      <td>0.209534</td>\n",
       "      <td>0.069549</td>\n",
       "    </tr>\n",
       "    <tr>\n",
       "      <th>5</th>\n",
       "      <td>Simulation TARCH(1,1), Constant Mean, Skewt Dist</td>\n",
       "      <td>0.215768</td>\n",
       "      <td>0.073565</td>\n",
       "    </tr>\n",
       "    <tr>\n",
       "      <th>6</th>\n",
       "      <td>Bootstrap TARCH(1, 2, 0), Constant Mean, Skewt...</td>\n",
       "      <td>0.201579</td>\n",
       "      <td>0.066845</td>\n",
       "    </tr>\n",
       "    <tr>\n",
       "      <th>7</th>\n",
       "      <td>Simple LR Fully Connected NN, n_past=14</td>\n",
       "      <td>0.230476</td>\n",
       "      <td>0.053687</td>\n",
       "    </tr>\n",
       "    <tr>\n",
       "      <th>8</th>\n",
       "      <td>LSTM 1 layer 20 units, n_past=14</td>\n",
       "      <td>0.218641</td>\n",
       "      <td>0.055450</td>\n",
       "    </tr>\n",
       "    <tr>\n",
       "      <th>9</th>\n",
       "      <td>2 layers Bidirect LSTM (32/16 units), n_past=30</td>\n",
       "      <td>0.201927</td>\n",
       "      <td>0.060862</td>\n",
       "    </tr>\n",
       "    <tr>\n",
       "      <th>10</th>\n",
       "      <td>1 Conv1D 2 Bidirect LSTM layers (32/16), n_pas...</td>\n",
       "      <td>0.221937</td>\n",
       "      <td>0.062017</td>\n",
       "    </tr>\n",
       "    <tr>\n",
       "      <th>11</th>\n",
       "      <td>2 Bidirect LSTMs (32/16), n_past=30, batch=64,...</td>\n",
       "      <td>0.452836</td>\n",
       "      <td>0.180723</td>\n",
       "    </tr>\n",
       "    <tr>\n",
       "      <th>13</th>\n",
       "      <td>Multivariate Bidirect LSTM 3 layers (64/32/16 ...</td>\n",
       "      <td>0.200929</td>\n",
       "      <td>0.069605</td>\n",
       "    </tr>\n",
       "    <tr>\n",
       "      <th>15</th>\n",
       "      <td>Multivariate Bidirect LSTM 3 layers (64/32/16 ...</td>\n",
       "      <td>0.186887</td>\n",
       "      <td>0.056118</td>\n",
       "    </tr>\n",
       "    <tr>\n",
       "      <th>16</th>\n",
       "      <td>Multivariate 4 Bidirect LSTM layers (128/64/32...</td>\n",
       "      <td>0.163791</td>\n",
       "      <td>0.047487</td>\n",
       "    </tr>\n",
       "    <tr>\n",
       "      <th>19</th>\n",
       "      <td>Multivariate Bidirect LSTM 3 layers (64/32/16 ...</td>\n",
       "      <td>0.161375</td>\n",
       "      <td>0.048348</td>\n",
       "    </tr>\n",
       "    <tr>\n",
       "      <th>20</th>\n",
       "      <td>Multivariate 4 Bidirect LSTM layers (128/64/32...</td>\n",
       "      <td>0.178676</td>\n",
       "      <td>0.053318</td>\n",
       "    </tr>\n",
       "  </tbody>\n",
       "</table>\n",
       "</div>"
      ],
      "text/plain": [
       "                                                Model  Validation RMSPE  \\\n",
       "0                                       Mean Baseline          0.507040   \n",
       "1                       Random Walk Naive Forecasting          0.224657   \n",
       "2              GARCH(1,1), Constant Mean, Normal Dist          0.530965   \n",
       "3   Analytical GJR-GARCH(1,1,1), Constant Mean, Sk...          0.276680   \n",
       "4     Bootstrap TARCH(1,1), Constant Mean, Skewt Dist          0.209534   \n",
       "5    Simulation TARCH(1,1), Constant Mean, Skewt Dist          0.215768   \n",
       "6   Bootstrap TARCH(1, 2, 0), Constant Mean, Skewt...          0.201579   \n",
       "7             Simple LR Fully Connected NN, n_past=14          0.230476   \n",
       "8                    LSTM 1 layer 20 units, n_past=14          0.218641   \n",
       "9     2 layers Bidirect LSTM (32/16 units), n_past=30          0.201927   \n",
       "10  1 Conv1D 2 Bidirect LSTM layers (32/16), n_pas...          0.221937   \n",
       "11  2 Bidirect LSTMs (32/16), n_past=30, batch=64,...          0.452836   \n",
       "13  Multivariate Bidirect LSTM 3 layers (64/32/16 ...          0.200929   \n",
       "15  Multivariate Bidirect LSTM 3 layers (64/32/16 ...          0.186887   \n",
       "16  Multivariate 4 Bidirect LSTM layers (128/64/32...          0.163791   \n",
       "19  Multivariate Bidirect LSTM 3 layers (64/32/16 ...          0.161375   \n",
       "20  Multivariate 4 Bidirect LSTM layers (128/64/32...          0.178676   \n",
       "\n",
       "    Validation RMSE  \n",
       "0          0.132201  \n",
       "1          0.052533  \n",
       "2          0.185607  \n",
       "3          0.090312  \n",
       "4          0.069549  \n",
       "5          0.073565  \n",
       "6          0.066845  \n",
       "7          0.053687  \n",
       "8          0.055450  \n",
       "9          0.060862  \n",
       "10         0.062017  \n",
       "11         0.180723  \n",
       "13         0.069605  \n",
       "15         0.056118  \n",
       "16         0.047487  \n",
       "19         0.048348  \n",
       "20         0.053318  "
      ]
     },
     "execution_count": 9,
     "metadata": {},
     "output_type": "execute_result"
    }
   ],
   "source": [
    "perf_df"
   ]
  },
  {
   "cell_type": "code",
   "execution_count": 23,
   "metadata": {},
   "outputs": [],
   "source": [
    "perf_df['Model'] = perf_df['Model'].str.replace('|','')"
   ]
  },
  {
   "cell_type": "code",
   "execution_count": 6,
   "metadata": {
    "scrolled": false
   },
   "outputs": [
    {
     "name": "stdout",
     "output_type": "stream",
     "text": [
      "|    | Model                                                                         |   Validation RMSPE |   Validation RMSE |\n",
      "|---:|:------------------------------------------------------------------------------|-------------------:|------------------:|\n",
      "| 12 | Multivariate Bidirect LSTM 2 layers (32/16 units), n_past=30                  |           0.156677 |         0.0461386 |\n",
      "| 15 | Multivariate 2 Bidirect LSTM layers (32/16 units), n_past=30, batch=32, tanh  |           0.163605 |         0.0507814 |\n",
      "| 13 | Multivariate Bidirect LSTM 3 layers (64/32/16 units), n_past=30               |           0.164623 |         0.0446602 |\n",
      "| 14 | Multivariate 4 Bidirect LSTM layers (128/64/32/16 units), n_past=30, batch=64 |           0.167586 |         0.0503861 |\n",
      "|  6 | Bootstrap TARCH(1, 2, 0), Constant Mean, Skewt Dist                           |           0.200954 |         0.0668514 |\n",
      "|  9 | 2 layers Bidirect LSTM (32/16 units), n_past=30                               |           0.202388 |         0.0578647 |\n",
      "|  4 | Bootstrap TARCH(1,1), Constant Mean, Skewt Dist                               |           0.209654 |         0.0698137 |\n",
      "|  5 | Simulation TARCH(1,1), Constant Mean, Skewt Dist                              |           0.215751 |         0.0732927 |\n",
      "|  8 | LSTM 1 layer 20 units, n_past=14                                              |           0.223199 |         0.0576027 |\n",
      "|  1 | Random Walk Naive Forecasting                                                 |           0.224657 |         0.0525334 |\n",
      "| 10 | 1 Conv1D 2 Bidirect LSTM layers (32/16), n_past=30, batch=64                  |           0.230372 |         0.0621463 |\n",
      "|  7 | Simple LR Fully Connected NN, n_past=14                                       |           0.238177 |         0.0553356 |\n",
      "|  3 | Analytical GJR-GARCH(1,1,1), Constant Mean, Skewt Dist                        |           0.276679 |         0.0903115 |\n",
      "| 11 | 2 Bidirect LSTMs (32/16), n_past=30, batch=64, SGD lr=6.9e-05                 |           0.399735 |         0.1655    |\n",
      "|  0 | Mean Baseline                                                                 |           0.50704  |         0.132201  |\n",
      "|  2 | GARCH(1,1), Constant Mean, Normal Dist                                        |           0.530965 |         0.185607  |\n"
     ]
    }
   ],
   "source": [
    "print(sorted_perf.to_markdown())"
   ]
  },
  {
   "cell_type": "code",
   "execution_count": 7,
   "metadata": {},
   "outputs": [],
   "source": [
    "# conda install tabulate"
   ]
  },
  {
   "cell_type": "code",
   "execution_count": 8,
   "metadata": {},
   "outputs": [
    {
     "data": {
      "text/plain": [
       "0.02198799999999998"
      ]
     },
     "execution_count": 8,
     "metadata": {},
     "output_type": "execute_result"
    }
   ],
   "source": [
    "0.213242 - 0.191254"
   ]
  },
  {
   "cell_type": "code",
   "execution_count": 11,
   "metadata": {},
   "outputs": [],
   "source": [
    "import os\n",
    "import numpy as np\n",
    "import pandas as pd\n",
    "import matplotlib.pyplot as plt\n",
    "import seaborn as sns\n",
    "from datetime import date\n",
    "from scipy import stats\n",
    "\n",
    "%matplotlib inline"
   ]
  },
  {
   "cell_type": "code",
   "execution_count": 12,
   "metadata": {},
   "outputs": [],
   "source": [
    "import yfinance as yf\n",
    "\n",
    "from datetime import datetime, timedelta\n",
    "from sklearn.metrics import mean_squared_error as mse\n",
    "from sklearn.preprocessing import MinMaxScaler\n",
    "from statsmodels.graphics.tsaplots import plot_acf, plot_pacf"
   ]
  },
  {
   "cell_type": "code",
   "execution_count": 13,
   "metadata": {},
   "outputs": [],
   "source": [
    "directory_to_img = os.path.join('..', '..', 'images')"
   ]
  },
  {
   "cell_type": "code",
   "execution_count": null,
   "metadata": {},
   "outputs": [],
   "source": [
    "# n_zoom = 365\n",
    "# sns.set_context(\"talk\", font_scale=1.3)\n",
    "# # plt.style.use(['seaborn'])\n",
    "\n",
    "# # VISUALIZE REALIZED CURRENT VS. FUTURE VOLATILITY\n",
    "# for i in range(1,8):\n",
    "#     with sns.axes_style(\"whitegrid\"):\n",
    "#         fig, ax = plt.subplots(figsize=(18,7))\n",
    "\n",
    "#         ax.plot(df.vol_current[-n_zoom:], alpha=.8, lw=1, color='gray', ls=':',\n",
    "#                 label='Current Volatility')\n",
    "#         ax.plot(df.vol_current.shift(-i)[-n_zoom:], lw=2, color='blue',\n",
    "#                 label=f'Next {n_future} Days Volatility (TARGET)')\n",
    "\n",
    "#         plt.savefig(os.path.join(directory_to_img, 'gif', f'gif_vol_{i}.png'), \n",
    "#                     dpi=300, bbox_inches='tight')\n",
    "#         plt.show();"
   ]
  },
  {
   "cell_type": "code",
   "execution_count": 14,
   "metadata": {},
   "outputs": [],
   "source": [
    "# from pathlib import Path\n",
    "# import imageio\n",
    "\n",
    "# image_path = Path(os.path.join(directory_to_img, 'gif'))\n",
    "# images = list(image_path.glob('*.png'))\n",
    "# images.sort()\n",
    "# image_list = []\n",
    "\n",
    "# for file_name in images:\n",
    "#     image_list.append(imageio.imread(file_name))"
   ]
  },
  {
   "cell_type": "code",
   "execution_count": null,
   "metadata": {},
   "outputs": [],
   "source": [
    "# imageio.mimwrite(os.path.join(directory_to_img, 'vol_shift.gif'), image_list,\n",
    "#                  duration=1.0, loop=1)"
   ]
  },
  {
   "cell_type": "code",
   "execution_count": null,
   "metadata": {},
   "outputs": [],
   "source": [
    "# from pygifsicle import optimize\n",
    "# gif_path = os.path.join(directory_to_img, 'vol_shift.gif')\n",
    "# # create a new one\n",
    "# optimize(gif_path, os.path.join(directory_to_img, 'vol_shift_opt.gif'))\n",
    "# # overwrite the original one\n",
    "# optimize(gif_path)"
   ]
  }
 ],
 "metadata": {
  "kernelspec": {
   "display_name": "Python 3",
   "language": "python",
   "name": "python3"
  },
  "language_info": {
   "codemirror_mode": {
    "name": "ipython",
    "version": 3
   },
   "file_extension": ".py",
   "mimetype": "text/x-python",
   "name": "python",
   "nbconvert_exporter": "python",
   "pygments_lexer": "ipython3",
   "version": "3.8.5"
  }
 },
 "nbformat": 4,
 "nbformat_minor": 4
}
